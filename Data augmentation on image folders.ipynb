{
 "cells": [
  {
   "cell_type": "code",
   "execution_count": 1,
   "metadata": {},
   "outputs": [
    {
     "name": "stderr",
     "output_type": "stream",
     "text": [
      "Using TensorFlow backend.\n"
     ]
    }
   ],
   "source": [
    "import os\n",
    "from keras.preprocessing.image import ImageDataGenerator,array_to_img, img_to_array, load_img"
   ]
  },
  {
   "cell_type": "code",
   "execution_count": 2,
   "metadata": {},
   "outputs": [],
   "source": [
    "datagen = ImageDataGenerator( \n",
    "        rotation_range = 40, \n",
    "        shear_range = 0.4, \n",
    "        zoom_range = 0.3, \n",
    "        horizontal_flip = True, \n",
    "        brightness_range = (0.5, 1.5)) \n",
    "import cv2"
   ]
  },
  {
   "cell_type": "code",
   "execution_count": 7,
   "metadata": {},
   "outputs": [],
   "source": [
    "from PIL import Image\n",
    "path = \"/home/bluebrain/Dynamic_Advertisement/Gender/Female/\"\n",
    "dirs = os.listdir(\"/home/bluebrain/Dynamic_Advertisement/Gender/Female/\")\n",
    "for item in dirs:\n",
    "    if item == \".DS_STORE\":\n",
    "        continue\n",
    "    if os.path.isfile(path+item):\n",
    "        img = Image.open(path+item)\n",
    "        #p = cv2.imread(i,1)\n",
    "        #img = load_img(p) \n",
    "        x = img_to_array(img) \n",
    "        x = x.reshape((1, ) + x.shape)   \n",
    "# using the above defined parameters.  \n",
    "        j = 0\n",
    "        for batch in datagen.flow(x, batch_size = 1, \n",
    "                          save_to_dir ='/home/bluebrain/Dynamic_Advertisement/Gender/Female',  \n",
    "                          save_prefix ='image', save_format ='jpg'): \n",
    "            j += 1\n",
    "            if j > 4:\n",
    "                break"
   ]
  },
  {
   "cell_type": "code",
   "execution_count": 127,
   "metadata": {},
   "outputs": [
    {
     "data": {
      "text/plain": [
       "'/home/bluebrain/Dynamic_Advertisement'"
      ]
     },
     "execution_count": 127,
     "metadata": {},
     "output_type": "execute_result"
    }
   ],
   "source": [
    "pwd"
   ]
  },
  {
   "cell_type": "code",
   "execution_count": null,
   "metadata": {},
   "outputs": [],
   "source": []
  }
 ],
 "metadata": {
  "kernelspec": {
   "display_name": "Python 3",
   "language": "python",
   "name": "python3"
  },
  "language_info": {
   "codemirror_mode": {
    "name": "ipython",
    "version": 3
   },
   "file_extension": ".py",
   "mimetype": "text/x-python",
   "name": "python",
   "nbconvert_exporter": "python",
   "pygments_lexer": "ipython3",
   "version": "3.7.4"
  }
 },
 "nbformat": 4,
 "nbformat_minor": 2
}

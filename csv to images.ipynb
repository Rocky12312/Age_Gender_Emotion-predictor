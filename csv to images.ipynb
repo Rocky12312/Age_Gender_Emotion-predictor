{
 "cells": [
  {
   "cell_type": "markdown",
   "metadata": {},
   "source": [
    "# Csv to images of train.csv file"
   ]
  },
  {
   "cell_type": "code",
   "execution_count": null,
   "metadata": {},
   "outputs": [],
   "source": [
    "import numpy as np\n",
    "import cv2\n",
    "import os\n",
    "\n",
    "#os.makedir(\"output\")\n",
    "\n",
    "with open(\"train.csv\") as f:\n",
    "    content = f.readlines()\n",
    "\n",
    "lines = np.array(content)\n",
    "\n",
    "num_of_instances = lines.size\n",
    "\n",
    "for i in range(1,num_of_instances):\n",
    "    try:\n",
    "        emotion, img = lines[i].split(\",\")\n",
    "        img = img.replace('\"', '')\n",
    "        img = img.replace('\\n', '')\n",
    "        pixels = img.split(\" \")\n",
    "\n",
    "        pixels = np.array(pixels, 'float32')\n",
    "        image = pixels.reshape(48, 48)\n",
    "        j = emotion\n",
    "        if j == 0:\n",
    "            path_file_name = f\"train/{j}_exp/{i}_{emotion}.jpg\"\n",
    "            cv2.imwrite(path_file_name, image)\n",
    "        elif j == 1:\n",
    "            path_file_name = f\"train/{j}_exp/{i}_{emotion}.jpg\"\n",
    "            cv2.imwrite(path_file_name, image)\n",
    "        elif j == 2:\n",
    "            path_file_name = f\"train/{j}_exp/{i}_{emotion}.jpg\"\n",
    "            cv2.imwrite(path_file_name, image)\n",
    "        elif j == 3:\n",
    "            path_file_name = f\"train/{j}_exp/{i}_{emotion}.jpg\"\n",
    "            cv2.imwrite(path_file_name, image)\n",
    "        elif j == 4:\n",
    "            path_file_name = f\"train/{j}_exp/{i}_{emotion}.jpg\"\n",
    "            cv2.imwrite(path_file_name, image)\n",
    "        elif j == 5:\n",
    "            path_file_name = f\"train/{j}_exp/{i}_{emotion}.jpg\"\n",
    "            cv2.imwrite(path_file_name, image)\n",
    "        else:\n",
    "            path_file_name = f\"train/{j}_exp/{i}_{emotion}.jpg\"\n",
    "            cv2.imwrite(path_file_name, image)\n",
    "\n",
    "    except Exception as ex:\n",
    "        print(ex)"
   ]
  },
  {
   "cell_type": "code",
   "execution_count": null,
   "metadata": {},
   "outputs": [],
   "source": []
  }
 ],
 "metadata": {
  "kernelspec": {
   "display_name": "Python 3",
   "language": "python",
   "name": "python3"
  },
  "language_info": {
   "codemirror_mode": {
    "name": "ipython",
    "version": 3
   },
   "file_extension": ".py",
   "mimetype": "text/x-python",
   "name": "python",
   "nbconvert_exporter": "python",
   "pygments_lexer": "ipython3",
   "version": "3.7.3"
  }
 },
 "nbformat": 4,
 "nbformat_minor": 2
}
